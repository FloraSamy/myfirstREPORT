{
 "cells": [
  {
   "cell_type": "markdown",
   "metadata": {},
   "source": [
    "## Find association between two quantitative variables."
   ]
  },
  {
   "cell_type": "code",
   "execution_count": 1,
   "metadata": {},
   "outputs": [
    {
     "name": "stdout",
     "output_type": "stream",
     "text": [
      "<class 'pandas.core.frame.DataFrame'>\n",
      "Int64Index: 27360 entries, 0 to 28866\n",
      "Data columns (total 5 columns):\n",
      "Gender              27360 non-null object\n",
      "NativeBorn          27360 non-null object\n",
      "VocabScore          27360 non-null float64\n",
      "Age                 27360 non-null float64\n",
      "YearsOfEducation    27360 non-null float64\n",
      "dtypes: float64(3), object(2)\n",
      "memory usage: 1.3+ MB\n"
     ]
    },
    {
     "data": {
      "text/html": [
       "<div>\n",
       "<style scoped>\n",
       "    .dataframe tbody tr th:only-of-type {\n",
       "        vertical-align: middle;\n",
       "    }\n",
       "\n",
       "    .dataframe tbody tr th {\n",
       "        vertical-align: top;\n",
       "    }\n",
       "\n",
       "    .dataframe thead th {\n",
       "        text-align: right;\n",
       "    }\n",
       "</style>\n",
       "<table border=\"1\" class=\"dataframe\">\n",
       "  <thead>\n",
       "    <tr style=\"text-align: right;\">\n",
       "      <th></th>\n",
       "      <th>Gender</th>\n",
       "      <th>NativeBorn</th>\n",
       "      <th>VocabScore</th>\n",
       "      <th>Age</th>\n",
       "      <th>YearsOfEducation</th>\n",
       "    </tr>\n",
       "  </thead>\n",
       "  <tbody>\n",
       "    <tr>\n",
       "      <th>0</th>\n",
       "      <td>female</td>\n",
       "      <td>yes</td>\n",
       "      <td>10.0</td>\n",
       "      <td>52.0</td>\n",
       "      <td>12.0</td>\n",
       "    </tr>\n",
       "    <tr>\n",
       "      <th>1</th>\n",
       "      <td>female</td>\n",
       "      <td>yes</td>\n",
       "      <td>6.0</td>\n",
       "      <td>74.0</td>\n",
       "      <td>9.0</td>\n",
       "    </tr>\n",
       "    <tr>\n",
       "      <th>2</th>\n",
       "      <td>male</td>\n",
       "      <td>yes</td>\n",
       "      <td>4.0</td>\n",
       "      <td>35.0</td>\n",
       "      <td>10.0</td>\n",
       "    </tr>\n",
       "    <tr>\n",
       "      <th>3</th>\n",
       "      <td>female</td>\n",
       "      <td>yes</td>\n",
       "      <td>9.0</td>\n",
       "      <td>50.0</td>\n",
       "      <td>12.0</td>\n",
       "    </tr>\n",
       "    <tr>\n",
       "      <th>4</th>\n",
       "      <td>female</td>\n",
       "      <td>yes</td>\n",
       "      <td>6.0</td>\n",
       "      <td>41.0</td>\n",
       "      <td>12.0</td>\n",
       "    </tr>\n",
       "  </tbody>\n",
       "</table>\n",
       "</div>"
      ],
      "text/plain": [
       "   Gender NativeBorn  VocabScore   Age  YearsOfEducation\n",
       "0  female        yes        10.0  52.0              12.0\n",
       "1  female        yes         6.0  74.0               9.0\n",
       "2    male        yes         4.0  35.0              10.0\n",
       "3  female        yes         9.0  50.0              12.0\n",
       "4  female        yes         6.0  41.0              12.0"
      ]
     },
     "execution_count": 1,
     "metadata": {},
     "output_type": "execute_result"
    }
   ],
   "source": [
    "#Load Data set.\n",
    "import matplotlib.pyplot as plt\n",
    "%matplotlib inline\n",
    "import seaborn as sns\n",
    "import pandas as pd\n",
    "df= pd.read_csv(\"C:/Users/Ayra/Desktop/Dataset/VocabTest.csv\")# Load data set\n",
    "df=df.dropna() # Remove missing values\n",
    "df.info() # Find the data type of the variables.\n",
    "df.head() "
   ]
  },
  {
   "cell_type": "code",
   "execution_count": 2,
   "metadata": {},
   "outputs": [
    {
     "data": {
      "text/html": [
       "<div>\n",
       "<style scoped>\n",
       "    .dataframe tbody tr th:only-of-type {\n",
       "        vertical-align: middle;\n",
       "    }\n",
       "\n",
       "    .dataframe tbody tr th {\n",
       "        vertical-align: top;\n",
       "    }\n",
       "\n",
       "    .dataframe thead th {\n",
       "        text-align: right;\n",
       "    }\n",
       "</style>\n",
       "<table border=\"1\" class=\"dataframe\">\n",
       "  <thead>\n",
       "    <tr style=\"text-align: right;\">\n",
       "      <th></th>\n",
       "      <th>VocabScore</th>\n",
       "      <th>Age</th>\n",
       "      <th>YearsOfEducation</th>\n",
       "    </tr>\n",
       "  </thead>\n",
       "  <tbody>\n",
       "    <tr>\n",
       "      <th>count</th>\n",
       "      <td>27360.000000</td>\n",
       "      <td>27360.000000</td>\n",
       "      <td>27360.000000</td>\n",
       "    </tr>\n",
       "    <tr>\n",
       "      <th>mean</th>\n",
       "      <td>5.999781</td>\n",
       "      <td>45.745431</td>\n",
       "      <td>13.159101</td>\n",
       "    </tr>\n",
       "    <tr>\n",
       "      <th>std</th>\n",
       "      <td>2.104215</td>\n",
       "      <td>17.385507</td>\n",
       "      <td>3.006727</td>\n",
       "    </tr>\n",
       "    <tr>\n",
       "      <th>min</th>\n",
       "      <td>0.000000</td>\n",
       "      <td>18.000000</td>\n",
       "      <td>0.000000</td>\n",
       "    </tr>\n",
       "    <tr>\n",
       "      <th>25%</th>\n",
       "      <td>5.000000</td>\n",
       "      <td>31.000000</td>\n",
       "      <td>12.000000</td>\n",
       "    </tr>\n",
       "    <tr>\n",
       "      <th>50%</th>\n",
       "      <td>6.000000</td>\n",
       "      <td>43.000000</td>\n",
       "      <td>13.000000</td>\n",
       "    </tr>\n",
       "    <tr>\n",
       "      <th>75%</th>\n",
       "      <td>7.000000</td>\n",
       "      <td>59.000000</td>\n",
       "      <td>16.000000</td>\n",
       "    </tr>\n",
       "    <tr>\n",
       "      <th>max</th>\n",
       "      <td>10.000000</td>\n",
       "      <td>89.000000</td>\n",
       "      <td>20.000000</td>\n",
       "    </tr>\n",
       "  </tbody>\n",
       "</table>\n",
       "</div>"
      ],
      "text/plain": [
       "         VocabScore           Age  YearsOfEducation\n",
       "count  27360.000000  27360.000000      27360.000000\n",
       "mean       5.999781     45.745431         13.159101\n",
       "std        2.104215     17.385507          3.006727\n",
       "min        0.000000     18.000000          0.000000\n",
       "25%        5.000000     31.000000         12.000000\n",
       "50%        6.000000     43.000000         13.000000\n",
       "75%        7.000000     59.000000         16.000000\n",
       "max       10.000000     89.000000         20.000000"
      ]
     },
     "execution_count": 2,
     "metadata": {},
     "output_type": "execute_result"
    }
   ],
   "source": [
    "df.describe() # Understand the nature of the variables--Descriptive statistics."
   ]
  },
  {
   "cell_type": "code",
   "execution_count": 3,
   "metadata": {},
   "outputs": [
    {
     "data": {
      "image/png": "[encoded data removed]",
      "text/plain": [
       "<Figure size 432x288 with 2 Axes>"
      ]
     },
     "metadata": {},
     "output_type": "display_data"
    }
   ],
   "source": [
    "corr = df.corr()\n",
    "sns.heatmap(corr, annot=True, linewidths=.8, cmap='viridis')\n",
    "plt.show()"
   ]
  },
  {
   "cell_type": "markdown",
   "metadata": {},
   "source": [
    "## Find Similarity between two texts"
   ]
  },
  {
   "cell_type": "code",
   "execution_count": 1,
   "metadata": {},
   "outputs": [],
   "source": [
    "#importing packages\n",
    "# NLP\n",
    "import spacy\n",
    "import en_core_web_sm\n",
    "nlp = en_core_web_sm.load()\n",
    "# Dataframe\n",
    "import pandas as pd\n",
    "# Visiualization\n",
    "import matplotlib.pyplot as plt\n",
    "%matplotlib inline\n",
    "import seaborn as sns"
   ]
  },
  {
   "cell_type": "code",
   "execution_count": 2,
   "metadata": {},
   "outputs": [
    {
     "data": {
      "text/html": [
       "<div>\n",
       "<style scoped>\n",
       "    .dataframe tbody tr th:only-of-type {\n",
       "        vertical-align: middle;\n",
       "    }\n",
       "\n",
       "    .dataframe tbody tr th {\n",
       "        vertical-align: top;\n",
       "    }\n",
       "\n",
       "    .dataframe thead th {\n",
       "        text-align: right;\n",
       "    }\n",
       "</style>\n",
       "<table border=\"1\" class=\"dataframe\">\n",
       "  <thead>\n",
       "    <tr style=\"text-align: right;\">\n",
       "      <th>Text2</th>\n",
       "      <th>Cat</th>\n",
       "      <th>Dog</th>\n",
       "      <th>Environment friendly</th>\n",
       "      <th>Oliver</th>\n",
       "      <th>Rabbit</th>\n",
       "      <th>Take care</th>\n",
       "    </tr>\n",
       "    <tr>\n",
       "      <th>Text1</th>\n",
       "      <th></th>\n",
       "      <th></th>\n",
       "      <th></th>\n",
       "      <th></th>\n",
       "      <th></th>\n",
       "      <th></th>\n",
       "    </tr>\n",
       "  </thead>\n",
       "  <tbody>\n",
       "    <tr>\n",
       "      <th>Cat</th>\n",
       "      <td>1.000000</td>\n",
       "      <td>0.744415</td>\n",
       "      <td>0.518845</td>\n",
       "      <td>0.634631</td>\n",
       "      <td>0.703958</td>\n",
       "      <td>0.346364</td>\n",
       "    </tr>\n",
       "    <tr>\n",
       "      <th>Dog</th>\n",
       "      <td>0.744415</td>\n",
       "      <td>1.000000</td>\n",
       "      <td>0.420493</td>\n",
       "      <td>0.653388</td>\n",
       "      <td>0.584373</td>\n",
       "      <td>0.291155</td>\n",
       "    </tr>\n",
       "    <tr>\n",
       "      <th>Environment friendly</th>\n",
       "      <td>0.518845</td>\n",
       "      <td>0.420493</td>\n",
       "      <td>1.000000</td>\n",
       "      <td>0.408633</td>\n",
       "      <td>0.353933</td>\n",
       "      <td>0.256258</td>\n",
       "    </tr>\n",
       "    <tr>\n",
       "      <th>Oliver</th>\n",
       "      <td>0.634631</td>\n",
       "      <td>0.653388</td>\n",
       "      <td>0.408633</td>\n",
       "      <td>1.000000</td>\n",
       "      <td>0.693923</td>\n",
       "      <td>0.259787</td>\n",
       "    </tr>\n",
       "    <tr>\n",
       "      <th>Rabbit</th>\n",
       "      <td>0.703958</td>\n",
       "      <td>0.584373</td>\n",
       "      <td>0.353933</td>\n",
       "      <td>0.693923</td>\n",
       "      <td>1.000000</td>\n",
       "      <td>0.535564</td>\n",
       "    </tr>\n",
       "    <tr>\n",
       "      <th>Take care</th>\n",
       "      <td>0.346364</td>\n",
       "      <td>0.291155</td>\n",
       "      <td>0.256258</td>\n",
       "      <td>0.259787</td>\n",
       "      <td>0.535564</td>\n",
       "      <td>1.000000</td>\n",
       "    </tr>\n",
       "  </tbody>\n",
       "</table>\n",
       "</div>"
      ],
      "text/plain": [
       "Text2                      Cat       Dog  Environment friendly    Oliver  \\\n",
       "Text1                                                                      \n",
       "Cat                   1.000000  0.744415              0.518845  0.634631   \n",
       "Dog                   0.744415  1.000000              0.420493  0.653388   \n",
       "Environment friendly  0.518845  0.420493              1.000000  0.408633   \n",
       "Oliver                0.634631  0.653388              0.408633  1.000000   \n",
       "Rabbit                0.703958  0.584373              0.353933  0.693923   \n",
       "Take care             0.346364  0.291155              0.256258  0.259787   \n",
       "\n",
       "Text2                   Rabbit  Take care  \n",
       "Text1                                      \n",
       "Cat                   0.703958   0.346364  \n",
       "Dog                   0.584373   0.291155  \n",
       "Environment friendly  0.353933   0.256258  \n",
       "Oliver                0.693923   0.259787  \n",
       "Rabbit                1.000000   0.535564  \n",
       "Take care             0.535564   1.000000  "
      ]
     },
     "execution_count": 2,
     "metadata": {},
     "output_type": "execute_result"
    }
   ],
   "source": [
    "# Set of texts\n",
    "doc1=nlp(\"Dog\")\n",
    "doc2=nlp(\"Cat\")\n",
    "doc3=nlp(\"Rabbit\")\n",
    "doc4=nlp(\"Oliver\")\n",
    "doc5=nlp(\"Take care\")\n",
    "doc6=nlp(\"Environment friendly\")\n",
    "mytext=(doc1,doc2,doc3,doc4,doc5,doc6)\n",
    "mylist=[(i.text,j.text,i.similarity(j)) for j in mytext for i in mytext]\n",
    "\n",
    "df1=pd.DataFrame(mylist)\n",
    "df=df1\n",
    "df=df.rename(index=str, columns={\"0\": \"a\", \"1\": \"c\"})\n",
    "\n",
    "df.columns=['Text1','Text2','Score']\n",
    "df.head()\n",
    "df2=df.pivot(index='Text1', columns='Text2', values='Score')\n",
    "df2"
   ]
  },
  {
   "cell_type": "code",
   "execution_count": 3,
   "metadata": {},
   "outputs": [
    {
     "data": {
      "image/png": "[encoded data removed]",
      "text/plain": [
       "<Figure size 432x288 with 2 Axes>"
      ]
     },
     "metadata": {},
     "output_type": "display_data"
    }
   ],
   "source": [
    "import matplotlib.pyplot as plt\n",
    "%matplotlib inline\n",
    "import seaborn as sns\n",
    "sns.heatmap(df2, annot=True, linewidths=.8, cmap='viridis')\n",
    "plt.show()"
   ]
  },
  {
   "cell_type": "code",
   "execution_count": null,
   "metadata": {},
   "outputs": [],
   "source": []
  }
 ],
 "metadata": {
  "kernelspec": {
   "display_name": "Python 3",
   "language": "python",
   "name": "python3"
  },
  "language_info": {
   "codemirror_mode": {
    "name": "ipython",
    "version": 3
   },
   "file_extension": ".py",
   "mimetype": "text/x-python",
   "name": "python",
   "nbconvert_exporter": "python",
   "pygments_lexer": "ipython3",
   "version": "3.6.5"
  }
 },
 "nbformat": 4,
 "nbformat_minor": 2
}
